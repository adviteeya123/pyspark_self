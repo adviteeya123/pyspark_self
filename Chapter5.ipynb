{
 "cells": [
  {
   "cell_type": "markdown",
   "metadata": {},
   "source": [
    "###Pyspark GroupBy and Aggregate Functions"
   ]
  },
  {
   "cell_type": "markdown",
   "metadata": {},
   "source": []
  },
  {
   "cell_type": "code",
   "execution_count": 1,
   "metadata": {},
   "outputs": [
    {
     "name": "stderr",
     "output_type": "stream",
     "text": [
      "Setting default log level to \"WARN\".\n",
      "To adjust logging level use sc.setLogLevel(newLevel). For SparkR, use setLogLevel(newLevel).\n",
      "23/07/11 19:17:50 WARN NativeCodeLoader: Unable to load native-hadoop library for your platform... using builtin-java classes where applicable\n",
      "23/07/11 19:17:51 WARN Utils: Service 'SparkUI' could not bind on port 4040. Attempting port 4041.\n",
      "23/07/11 19:17:51 WARN Utils: Service 'SparkUI' could not bind on port 4041. Attempting port 4042.\n"
     ]
    }
   ],
   "source": [
    "from pyspark.sql import  SparkSession\n",
    "spark = SparkSession.builder.appName(\"grouping\").getOrCreate()"
   ]
  },
  {
   "cell_type": "code",
   "execution_count": 2,
   "metadata": {},
   "outputs": [
    {
     "data": {
      "text/html": [
       "\n",
       "            <div>\n",
       "                <p><b>SparkSession - in-memory</b></p>\n",
       "                \n",
       "        <div>\n",
       "            <p><b>SparkContext</b></p>\n",
       "\n",
       "            <p><a href=\"http://87ba31ba8ada:4042\">Spark UI</a></p>\n",
       "\n",
       "            <dl>\n",
       "              <dt>Version</dt>\n",
       "                <dd><code>v3.2.1</code></dd>\n",
       "              <dt>Master</dt>\n",
       "                <dd><code>local[*]</code></dd>\n",
       "              <dt>AppName</dt>\n",
       "                <dd><code>grouping</code></dd>\n",
       "            </dl>\n",
       "        </div>\n",
       "        \n",
       "            </div>\n",
       "        "
      ],
      "text/plain": [
       "<pyspark.sql.session.SparkSession at 0x7f6ae8076580>"
      ]
     },
     "execution_count": 2,
     "metadata": {},
     "output_type": "execute_result"
    }
   ],
   "source": [
    "spark"
   ]
  },
  {
   "cell_type": "code",
   "execution_count": 4,
   "metadata": {},
   "outputs": [
    {
     "name": "stdout",
     "output_type": "stream",
     "text": [
      "+---------+-----------------+--------------------+---------+-------+-----------+-------------------+-----------+-----------+--------------------+---------------------+--------------------+---+-----------------+-----------------+----------+-----------+-----------------+-------+------+--------------------+----------+-------------+-------------+---------------+--------------------+----------------+--------------------+----------+----------+-------------+---------------+-------------+----------------+--------------------+-------+----------+-------+----------------+----------------+-------------------+---------------------+-------------------+----------------------+--------------------------+----------+-----------+-----------+--------------------+-------------+-------------+-------------+\n",
      "|awardYear|         category|    categoryFullName|sortOrder|portion|prizeAmount|prizeAmountAdjusted|dateAwarded|prizeStatus|          motivation|categoryTopMotivation|          award_link| id|             name|        knownName| givenName| familyName|         fullName|penName|gender|       laureate_link|birth_date|   birth_city|birth_cityNow|birth_continent|       birth_country|birth_countryNow|birth_locationString|death_date|death_city|death_cityNow|death_continent|death_country|death_countryNow|death_locationString|orgName|nativeName|acronym|org_founded_date|org_founded_city|org_founded_cityNow|org_founded_continent|org_founded_country|org_founded_countryNow|org_founded_locationString|ind_or_org|residence_1|residence_2|       affiliation_1|affiliation_2|affiliation_3|affiliation_4|\n",
      "+---------+-----------------+--------------------+---------+-------+-----------+-------------------+-----------+-----------+--------------------+---------------------+--------------------+---+-----------------+-----------------+----------+-----------+-----------------+-------+------+--------------------+----------+-------------+-------------+---------------+--------------------+----------------+--------------------+----------+----------+-------------+---------------+-------------+----------------+--------------------+-------+----------+-------+----------------+----------------+-------------------+---------------------+-------------------+----------------------+--------------------------+----------+-----------+-----------+--------------------+-------------+-------------+-------------+\n",
      "|     2001|Economic Sciences|The Sveriges Riks...|        2|    1/3|   10000000|           12295082| 2001-10-10|   received|for their analyse...|                 null|https://masterdat...|745|A. Michael Spence|A. Michael Spence|A. Michael|     Spence|A. Michael Spence|   null|  male|http://masterdata...|1943-00-00|Montclair, NJ|Montclair, NJ|  North America|                 USA|             USA|  Montclair, NJ, USA|      null|      null|         null|           null|         null|            null|                null|   null|      null|   null|            null|            null|               null|                 null|               null|                  null|                      null|Individual|       null|       null|Stanford Universi...|         null|         null|         null|\n",
      "|     1975|          Physics|The Nobel Prize i...|        1|    1/3|     630000|            3404179| 1975-10-17|   received|for the discovery...|                 null|https://masterdat...|102|     Aage N. Bohr|     Aage N. Bohr|   Aage N.|       Bohr|  Aage Niels Bohr|   null|  male|http://masterdata...|1922-06-19|   Copenhagen|   Copenhagen|         Europe|             Denmark|         Denmark| Copenhagen, Denmark|2009-09-08|Copenhagen|   Copenhagen|         Europe|      Denmark|         Denmark| Copenhagen, Denmark|   null|      null|   null|            null|            null|               null|                 null|               null|                  null|                      null|Individual|       null|       null|Niels Bohr Instit...|         null|         null|         null|\n",
      "|     2004|        Chemistry|The Nobel Prize i...|        1|    1/3|   10000000|           11762861| 2004-10-06|   received|for the discovery...|                 null|https://masterdat...|779|Aaron Ciechanover|Aaron Ciechanover|     Aaron|Ciechanover|Aaron Ciechanover|   null|  male|http://masterdata...|1947-10-01|        Haifa|        Haifa|           Asia|British Protector...|          Israel|Haifa, British Pr...|      null|      null|         null|           null|         null|            null|                null|   null|      null|   null|            null|            null|               null|                 null|               null|                  null|                      null|Individual|       null|       null|Technion - Israel...|         null|         null|         null|\n",
      "+---------+-----------------+--------------------+---------+-------+-----------+-------------------+-----------+-----------+--------------------+---------------------+--------------------+---+-----------------+-----------------+----------+-----------+-----------------+-------+------+--------------------+----------+-------------+-------------+---------------+--------------------+----------------+--------------------+----------+----------+-------------+---------------+-------------+----------------+--------------------+-------+----------+-------+----------------+----------------+-------------------+---------------------+-------------------+----------------------+--------------------------+----------+-----------+-----------+--------------------+-------------+-------------+-------------+\n",
      "only showing top 3 rows\n",
      "\n"
     ]
    }
   ],
   "source": [
    "df_pyspark6 = spark.read.csv(\"complete.csv\", inferSchema=True, header=True)\n",
    "df_pyspark6.show(3)"
   ]
  },
  {
   "cell_type": "code",
   "execution_count": 6,
   "metadata": {},
   "outputs": [
    {
     "data": {
      "text/plain": [
       "['awardYear',\n",
       " 'category',\n",
       " 'categoryFullName',\n",
       " 'sortOrder',\n",
       " 'portion',\n",
       " 'prizeAmount',\n",
       " 'prizeAmountAdjusted',\n",
       " 'dateAwarded',\n",
       " 'prizeStatus',\n",
       " 'motivation',\n",
       " 'categoryTopMotivation',\n",
       " 'award_link',\n",
       " 'id',\n",
       " 'name',\n",
       " 'knownName',\n",
       " 'givenName',\n",
       " 'familyName',\n",
       " 'fullName',\n",
       " 'penName',\n",
       " 'gender',\n",
       " 'laureate_link',\n",
       " 'birth_date',\n",
       " 'birth_city',\n",
       " 'birth_cityNow',\n",
       " 'birth_continent',\n",
       " 'birth_country',\n",
       " 'birth_countryNow',\n",
       " 'birth_locationString',\n",
       " 'death_date',\n",
       " 'death_city',\n",
       " 'death_cityNow',\n",
       " 'death_continent',\n",
       " 'death_country',\n",
       " 'death_countryNow',\n",
       " 'death_locationString',\n",
       " 'orgName',\n",
       " 'nativeName',\n",
       " 'acronym',\n",
       " 'org_founded_date',\n",
       " 'org_founded_city',\n",
       " 'org_founded_cityNow',\n",
       " 'org_founded_continent',\n",
       " 'org_founded_country',\n",
       " 'org_founded_countryNow',\n",
       " 'org_founded_locationString',\n",
       " 'ind_or_org',\n",
       " 'residence_1',\n",
       " 'residence_2',\n",
       " 'affiliation_1',\n",
       " 'affiliation_2',\n",
       " 'affiliation_3',\n",
       " 'affiliation_4']"
      ]
     },
     "execution_count": 6,
     "metadata": {},
     "output_type": "execute_result"
    }
   ],
   "source": [
    "df_pyspark6.columns"
   ]
  },
  {
   "cell_type": "code",
   "execution_count": 7,
   "metadata": {},
   "outputs": [
    {
     "name": "stderr",
     "output_type": "stream",
     "text": [
      "                                                                                \r"
     ]
    },
    {
     "name": "stdout",
     "output_type": "stream",
     "text": [
      "+-------+--------------------+--------------------+--------------------+------------------+---------------+-----------------+-------------------+-----------+---------------+--------------------+---------------------+--------------------+-----------------+-----------------+-----------------+----------+----------+-----------------+--------------------+------+--------------------+----------+------------+-------------+---------------+---------------+----------------+--------------------+----------+----------+-------------+---------------+---------------+----------------+--------------------+--------------------+--------------------+-------+----------------+----------------+-------------------+---------------------+-------------------+----------------------+--------------------------+------------+---------------+-----------+--------------------+--------------------+--------------------+--------------------+\n",
      "|summary|           awardYear|            category|    categoryFullName|         sortOrder|        portion|      prizeAmount|prizeAmountAdjusted|dateAwarded|    prizeStatus|          motivation|categoryTopMotivation|          award_link|               id|             name|        knownName| givenName|familyName|         fullName|             penName|gender|       laureate_link|birth_date|  birth_city|birth_cityNow|birth_continent|  birth_country|birth_countryNow|birth_locationString|death_date|death_city|death_cityNow|death_continent|  death_country|death_countryNow|death_locationString|             orgName|          nativeName|acronym|org_founded_date|org_founded_city|org_founded_cityNow|org_founded_continent|org_founded_country|org_founded_countryNow|org_founded_locationString|  ind_or_org|    residence_1|residence_2|       affiliation_1|       affiliation_2|       affiliation_3|       affiliation_4|\n",
      "+-------+--------------------+--------------------+--------------------+------------------+---------------+-----------------+-------------------+-----------+---------------+--------------------+---------------------+--------------------+-----------------+-----------------+-----------------+----------+----------+-----------------+--------------------+------+--------------------+----------+------------+-------------+---------------+---------------+----------------+--------------------+----------+----------+-------------+---------------+---------------+----------------+--------------------+--------------------+--------------------+-------+----------------+----------------+-------------------+---------------------+-------------------+----------------------+--------------------------+------------+---------------+-----------+--------------------+--------------------+--------------------+--------------------+\n",
      "|  count|                 951|                 950|                 951|               951|            951|              951|                951|        534|            951|                 950|                   21|                 950|              950|              950|              923|       923|       921|              923|                  12|   922|                 949|       922|         921|          921|            922|            922|             922|                 922|       630|       611|          611|            617|            617|             617|                 630|                  27|                  28|     12|              26|              22|                 22|                   24|                 24|                    24|                        26|         949|            218|          2|                 697|                  67|                   2|                   1|\n",
      "|   mean|  1971.2073684210527|                null|                null| 2.440588853838065|            1.0|3460596.127368421|  6145680.669473684|       null|           null|                null|                 null|                null|482.5911485774499|             null|             null|      null|      null|             null|                null|  null|                null|      null|        null|         null|           null|           null|            null|                null|      null|      null|         null|           null|           null|            null|                null|                null|                null|   null|            null|            null|               null|                 null|               null|                  null|                      null|        null|           null|       null|                null|                null|                null|                null|\n",
      "| stddev|   33.58696853929656|                null|                null|29.533538353080655|            0.0|4014529.562870732|  3276873.892819735|       null|           null|                null|                 null|                null|282.4499981245478|             null|             null|      null|      null|             null|                null|  null|                null|      null|        null|         null|           null|           null|            null|                null|      null|      null|         null|           null|           null|            null|                null|                null|                null|   null|            null|            null|               null|                 null|               null|                  null|                      null|        null|           null|       null|                null|                null|                null|                null|\n",
      "|    min|                1901|           Chemistry|The Nobel Peace P...|                 1|              1|          1000000|           10049186| 1901-12-10|Patrick Modiano|The poetry of Eri...| for basic work on...|http://masterdata...|                1|A. Michael Spence|A. Michael Spence|A. Michael|&#332;mura|A. Michael Spence|(pen-name of Alex...|female|http://masterdata...|1817-11-30|'s Graveland| 's Graveland|         Africa|      Argentina|         Algeria|'s Graveland, the...|1903-11-01|    Aarhus|       Aarhus|         Africa|      Argentina|       Argentina|     Aarhus, Denmark|American Friends ...|American Friends ...|   AFSC|      1647-00-00|            Bern|               Bern|                 Asia|          Australia|             Australia|                 Australia|  Individual|      Argentina|  Mauritius|A.F. Ioffe Physic...|Aarhus University...|Dana-Farber Cance...|Brigham and Women...|\n",
      "|    max|uncovered the lif...|Physiology or Med...|https://masterdat...|               912|Patrick Modiano|  Patrick Modiano|            Patrick|    Modiano|     restricted|whose frolicsome ...|                 male|https://masterdat...|               99|    Élie Ducommun|    Élie Ducommun|      Élie|zur Hausen|    Élie Ducommun|       Paris, France|  male|http://masterdata...|1997-07-12|    Śeteniai|     Śeteniai|  South America|the Netherlands| the Netherlands|Śeteniai, Russian...|2020-03-29|   Övralid|      Övralid|  South America|the Netherlands| the Netherlands|     Övralid, Sweden|United Nations Pe...|United Nations Pe...| UNICEF|      2007-00-00|  Washington, DC|     Washington, DC|              Oceania|     United Kingdom|        United Kingdom|       Washington, DC, USA|Organization|the Netherlands|        USA|École municipale ...|École Normale Sup...|Howard Hughes Med...|Brigham and Women...|\n",
      "+-------+--------------------+--------------------+--------------------+------------------+---------------+-----------------+-------------------+-----------+---------------+--------------------+---------------------+--------------------+-----------------+-----------------+-----------------+----------+----------+-----------------+--------------------+------+--------------------+----------+------------+-------------+---------------+---------------+----------------+--------------------+----------+----------+-------------+---------------+---------------+----------------+--------------------+--------------------+--------------------+-------+----------------+----------------+-------------------+---------------------+-------------------+----------------------+--------------------------+------------+---------------+-----------+--------------------+--------------------+--------------------+--------------------+\n",
      "\n"
     ]
    }
   ],
   "source": [
    "df_pyspark6.describe().show()"
   ]
  },
  {
   "cell_type": "code",
   "execution_count": 8,
   "metadata": {},
   "outputs": [
    {
     "name": "stdout",
     "output_type": "stream",
     "text": [
      "root\n",
      " |-- awardYear: string (nullable = true)\n",
      " |-- category: string (nullable = true)\n",
      " |-- categoryFullName: string (nullable = true)\n",
      " |-- sortOrder: integer (nullable = true)\n",
      " |-- portion: string (nullable = true)\n",
      " |-- prizeAmount: string (nullable = true)\n",
      " |-- prizeAmountAdjusted: string (nullable = true)\n",
      " |-- dateAwarded: string (nullable = true)\n",
      " |-- prizeStatus: string (nullable = true)\n",
      " |-- motivation: string (nullable = true)\n",
      " |-- categoryTopMotivation: string (nullable = true)\n",
      " |-- award_link: string (nullable = true)\n",
      " |-- id: string (nullable = true)\n",
      " |-- name: string (nullable = true)\n",
      " |-- knownName: string (nullable = true)\n",
      " |-- givenName: string (nullable = true)\n",
      " |-- familyName: string (nullable = true)\n",
      " |-- fullName: string (nullable = true)\n",
      " |-- penName: string (nullable = true)\n",
      " |-- gender: string (nullable = true)\n",
      " |-- laureate_link: string (nullable = true)\n",
      " |-- birth_date: string (nullable = true)\n",
      " |-- birth_city: string (nullable = true)\n",
      " |-- birth_cityNow: string (nullable = true)\n",
      " |-- birth_continent: string (nullable = true)\n",
      " |-- birth_country: string (nullable = true)\n",
      " |-- birth_countryNow: string (nullable = true)\n",
      " |-- birth_locationString: string (nullable = true)\n",
      " |-- death_date: string (nullable = true)\n",
      " |-- death_city: string (nullable = true)\n",
      " |-- death_cityNow: string (nullable = true)\n",
      " |-- death_continent: string (nullable = true)\n",
      " |-- death_country: string (nullable = true)\n",
      " |-- death_countryNow: string (nullable = true)\n",
      " |-- death_locationString: string (nullable = true)\n",
      " |-- orgName: string (nullable = true)\n",
      " |-- nativeName: string (nullable = true)\n",
      " |-- acronym: string (nullable = true)\n",
      " |-- org_founded_date: string (nullable = true)\n",
      " |-- org_founded_city: string (nullable = true)\n",
      " |-- org_founded_cityNow: string (nullable = true)\n",
      " |-- org_founded_continent: string (nullable = true)\n",
      " |-- org_founded_country: string (nullable = true)\n",
      " |-- org_founded_countryNow: string (nullable = true)\n",
      " |-- org_founded_locationString: string (nullable = true)\n",
      " |-- ind_or_org: string (nullable = true)\n",
      " |-- residence_1: string (nullable = true)\n",
      " |-- residence_2: string (nullable = true)\n",
      " |-- affiliation_1: string (nullable = true)\n",
      " |-- affiliation_2: string (nullable = true)\n",
      " |-- affiliation_3: string (nullable = true)\n",
      " |-- affiliation_4: string (nullable = true)\n",
      "\n"
     ]
    }
   ],
   "source": [
    "df_pyspark6.printSchema()"
   ]
  },
  {
   "cell_type": "code",
   "execution_count": 13,
   "metadata": {},
   "outputs": [
    {
     "name": "stdout",
     "output_type": "stream",
     "text": [
      "+--------------------+--------------+\n",
      "|                name|sum(sortOrder)|\n",
      "+--------------------+--------------+\n",
      "|    Richard R. Ernst|             1|\n",
      "| Stanley B. Prusiner|             1|\n",
      "|    Gabriel Lippmann|             1|\n",
      "|       Michael Smith|             2|\n",
      "|Permanent Interna...|             1|\n",
      "|      Peter Grünberg|             2|\n",
      "|    Samuel C.C. Ting|             2|\n",
      "|      Edwin G. Krebs|             2|\n",
      "|         Gary Becker|             1|\n",
      "|        Imre Kertész|             1|\n",
      "|   Jacinto Benavente|             1|\n",
      "|     Barack H. Obama|             1|\n",
      "|   Douglass C. North|             2|\n",
      "|  Edward V. Appleton|             1|\n",
      "|    Frank B. Kellogg|             1|\n",
      "|     George E. Smith|             3|\n",
      "|         Martin Ryle|             1|\n",
      "|   Philip Noel-Baker|             1|\n",
      "|United Nations Ch...|             1|\n",
      "|   Arthur H. Compton|             1|\n",
      "+--------------------+--------------+\n",
      "only showing top 20 rows\n",
      "\n"
     ]
    }
   ],
   "source": [
    "## Groupby\n",
    "\n",
    "df_pyspark6.groupBy('name').sum().show()\n",
    "\n"
   ]
  },
  {
   "cell_type": "code",
   "execution_count": 12,
   "metadata": {},
   "outputs": [
    {
     "name": "stdout",
     "output_type": "stream",
     "text": [
      "+---------+--------------+\n",
      "|awardYear|sum(sortOrder)|\n",
      "+---------+--------------+\n",
      "|     1903|            10|\n",
      "|     1953|             7|\n",
      "|     1957|             7|\n",
      "|     1987|            13|\n",
      "|     1956|            16|\n",
      "|     2016|            18|\n",
      "|     1936|             9|\n",
      "|     2012|            14|\n",
      "|     1958|            15|\n",
      "|     1910|             5|\n",
      "|     1943|             5|\n",
      "|     1915|             5|\n",
      "|     1972|            19|\n",
      "|     1931|             8|\n",
      "|     1911|             7|\n",
      "|     1926|             7|\n",
      "|     1938|             5|\n",
      "|     1988|            21|\n",
      "|     2019|            26|\n",
      "|     1918|             2|\n",
      "+---------+--------------+\n",
      "only showing top 20 rows\n",
      "\n"
     ]
    }
   ],
   "source": [
    "df_pyspark6.groupBy('awardYear').sum().show()\n"
   ]
  },
  {
   "cell_type": "code",
   "execution_count": 14,
   "metadata": {},
   "outputs": [
    {
     "name": "stdout",
     "output_type": "stream",
     "text": [
      "+---------------+--------------+\n",
      "|    prizeAmount|sum(sortOrder)|\n",
      "+---------------+--------------+\n",
      "|         164304|            12|\n",
      "|         116960|             7|\n",
      "|        1650000|            13|\n",
      "|         146900|             3|\n",
      "|         220678|             9|\n",
      "|         225987|             7|\n",
      "|         121841|             7|\n",
      "|Patrick Modiano|           912|\n",
      "|         725000|            18|\n",
      "|         162608|             9|\n",
      "|         172947|             5|\n",
      "|        7500000|            20|\n",
      "|        1500000|             8|\n",
      "|         214559|            15|\n",
      "|         320000|            14|\n",
      "|         121573|             6|\n",
      "|         300000|             8|\n",
      "|         171753|             6|\n",
      "|         159917|             6|\n",
      "|        7000000|            20|\n",
      "+---------------+--------------+\n",
      "only showing top 20 rows\n",
      "\n"
     ]
    }
   ],
   "source": [
    "### Groupby \n",
    "df_pyspark6.groupBy('prizeAmount').sum().show()\n"
   ]
  },
  {
   "cell_type": "code",
   "execution_count": 15,
   "metadata": {},
   "outputs": [],
   "source": [
    "# like wise we can calculate the sum mean etc. \n"
   ]
  },
  {
   "cell_type": "code",
   "execution_count": 16,
   "metadata": {},
   "outputs": [
    {
     "name": "stdout",
     "output_type": "stream",
     "text": [
      "+---------------+-----+\n",
      "|    prizeAmount|count|\n",
      "+---------------+-----+\n",
      "|         164304|    8|\n",
      "|         116960|    6|\n",
      "|        1650000|    9|\n",
      "|         146900|    3|\n",
      "|         220678|    7|\n",
      "|         225987|    6|\n",
      "|         121841|    6|\n",
      "|Patrick Modiano|    1|\n",
      "|         725000|   11|\n",
      "|         162608|    6|\n",
      "|         172947|    5|\n",
      "|        7500000|   12|\n",
      "|        1500000|    7|\n",
      "|         214559|    9|\n",
      "|         320000|    8|\n",
      "|         121573|    5|\n",
      "|         300000|    6|\n",
      "|         171753|    5|\n",
      "|         159917|    5|\n",
      "|        7000000|   12|\n",
      "+---------------+-----+\n",
      "only showing top 20 rows\n",
      "\n"
     ]
    }
   ],
   "source": [
    "df_pyspark6.groupBy('prizeAmount').count().show()\n"
   ]
  },
  {
   "cell_type": "code",
   "execution_count": 17,
   "metadata": {},
   "outputs": [
    {
     "name": "stdout",
     "output_type": "stream",
     "text": [
      "+----------------+\n",
      "|sum(prizeAmount)|\n",
      "+----------------+\n",
      "|   3.287566321E9|\n",
      "+----------------+\n",
      "\n"
     ]
    }
   ],
   "source": [
    "df_pyspark6.agg({'prizeAmount':'sum'}).show()"
   ]
  },
  {
   "cell_type": "code",
   "execution_count": null,
   "metadata": {},
   "outputs": [],
   "source": []
  }
 ],
 "metadata": {
  "kernelspec": {
   "display_name": "Python 3.8.10 64-bit",
   "language": "python",
   "name": "python3"
  },
  "language_info": {
   "codemirror_mode": {
    "name": "ipython",
    "version": 3
   },
   "file_extension": ".py",
   "mimetype": "text/x-python",
   "name": "python",
   "nbconvert_exporter": "python",
   "pygments_lexer": "ipython3",
   "version": "3.8.10"
  },
  "orig_nbformat": 4,
  "vscode": {
   "interpreter": {
    "hash": "e7370f93d1d0cde622a1f8e1c04877d8463912d04d973331ad4851f04de6915a"
   }
  }
 },
 "nbformat": 4,
 "nbformat_minor": 2
}
