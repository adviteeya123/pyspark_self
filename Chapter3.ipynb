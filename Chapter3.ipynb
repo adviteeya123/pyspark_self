{
 "cells": [
  {
   "cell_type": "markdown",
   "metadata": {},
   "source": [
    "### Pyspark Handling Missing Values \n",
    "\n",
    "* Dropping Columns\n",
    "* Dropping Rows\n",
    "* Various parameter in dropping functionalities \n",
    "* Handling Missing values by Mean, Median and Mode"
   ]
  },
  {
   "cell_type": "code",
   "execution_count": 6,
   "metadata": {},
   "outputs": [
    {
     "name": "stderr",
     "output_type": "stream",
     "text": [
      "Setting default log level to \"WARN\".\n",
      "To adjust logging level use sc.setLogLevel(newLevel). For SparkR, use setLogLevel(newLevel).\n",
      "23/07/11 14:02:08 WARN NativeCodeLoader: Unable to load native-hadoop library for your platform... using builtin-java classes where applicable\n",
      "23/07/11 14:02:09 WARN Utils: Service 'SparkUI' could not bind on port 4040. Attempting port 4041.\n",
      "23/07/11 14:02:09 WARN Utils: Service 'SparkUI' could not bind on port 4041. Attempting port 4042.\n",
      "23/07/11 14:02:09 WARN Utils: Service 'SparkUI' could not bind on port 4042. Attempting port 4043.\n"
     ]
    }
   ],
   "source": [
    "from pyspark.sql import  SparkSession\n",
    "spark = SparkSession.builder.appName('Handling').getOrCreate()"
   ]
  },
  {
   "cell_type": "code",
   "execution_count": 7,
   "metadata": {},
   "outputs": [
    {
     "data": {
      "text/plain": [
       "DataFrame[Name : string, Age : int, Gender : string, Salary : int]"
      ]
     },
     "execution_count": 7,
     "metadata": {},
     "output_type": "execute_result"
    }
   ],
   "source": [
    "spark.read.csv('salary.csv', header= True, inferSchema= True)"
   ]
  },
  {
   "cell_type": "code",
   "execution_count": 8,
   "metadata": {},
   "outputs": [],
   "source": [
    "df_pyspark4 =   spark.read.csv('salary.csv', header= True, inferSchema= True)"
   ]
  },
  {
   "cell_type": "code",
   "execution_count": null,
   "metadata": {},
   "outputs": [],
   "source": []
  },
  {
   "cell_type": "code",
   "execution_count": 9,
   "metadata": {},
   "outputs": [
    {
     "name": "stdout",
     "output_type": "stream",
     "text": [
      "+----------+----+-------+-------+\n",
      "|     Name |Age |Gender |Salary |\n",
      "+----------+----+-------+-------+\n",
      "|Adviteeya |  30|   male|  12333|\n",
      "|     Abhay|  23|   male|  54000|\n",
      "|      amit|  43|   null|   null|\n",
      "|  ashutosh|  54|   null|  45000|\n",
      "|      null|null|   null|  45000|\n",
      "|      baby|  23| female|   9000|\n",
      "|      null|null|   null|   9000|\n",
      "+----------+----+-------+-------+\n",
      "\n"
     ]
    }
   ],
   "source": [
    "df_pyspark4.show()"
   ]
  },
  {
   "cell_type": "code",
   "execution_count": null,
   "metadata": {},
   "outputs": [],
   "source": []
  },
  {
   "cell_type": "code",
   "execution_count": 23,
   "metadata": {},
   "outputs": [
    {
     "data": {
      "text/plain": [
       "DataFrame[Name : string, Age : int, Gender : string, Salary : int]"
      ]
     },
     "execution_count": 23,
     "metadata": {},
     "output_type": "execute_result"
    }
   ],
   "source": [
    "## Drop the columns\n",
    "df_pyspark4.drop('Name')"
   ]
  },
  {
   "cell_type": "code",
   "execution_count": 16,
   "metadata": {},
   "outputs": [
    {
     "name": "stdout",
     "output_type": "stream",
     "text": [
      "+----------+----+-------+-------+\n",
      "|     Name |Age |Gender |Salary |\n",
      "+----------+----+-------+-------+\n",
      "|Adviteeya |  30|   male|  12333|\n",
      "|     Abhay|  23|   male|  54000|\n",
      "|      baby|  23| female|   9000|\n",
      "+----------+----+-------+-------+\n",
      "\n"
     ]
    }
   ],
   "source": [
    "## dropping NAN values\n",
    "df_pyspark4.na.drop().show()\n",
    "## all the rows are dropeed where null value or nan values are dropped"
   ]
  },
  {
   "cell_type": "code",
   "execution_count": 17,
   "metadata": {},
   "outputs": [
    {
     "name": "stdout",
     "output_type": "stream",
     "text": [
      "+----------+----+-------+-------+\n",
      "|     Name |Age |Gender |Salary |\n",
      "+----------+----+-------+-------+\n",
      "|Adviteeya |  30|   male|  12333|\n",
      "|     Abhay|  23|   male|  54000|\n",
      "|      amit|  43|   null|   null|\n",
      "|  ashutosh|  54|   null|  45000|\n",
      "|      null|null|   null|  45000|\n",
      "|      baby|  23| female|   9000|\n",
      "|      null|null|   null|   9000|\n",
      "+----------+----+-------+-------+\n",
      "\n"
     ]
    }
   ],
   "source": [
    "## features of drop any == how\n",
    "\n",
    "df_pyspark4.na.drop(how=\"all\").show()\n",
    "\n",
    "## it will drop only those rows in which all the values are null by default it is any "
   ]
  },
  {
   "cell_type": "code",
   "execution_count": 88,
   "metadata": {},
   "outputs": [
    {
     "name": "stdout",
     "output_type": "stream",
     "text": [
      "+----------+----+-------+-------+\n",
      "|     Name |Age |Gender |Salary |\n",
      "+----------+----+-------+-------+\n",
      "|Adviteeya |  30|   male|  12333|\n",
      "|     Abhay|  23|   male|  54000|\n",
      "|      amit|  43|   null|   null|\n",
      "|  ashutosh|  54|   null|  45000|\n",
      "|      baby|  23| female|   9000|\n",
      "+----------+----+-------+-------+\n",
      "\n"
     ]
    }
   ],
   "source": [
    "## features of drop any == threshold\n",
    "\n",
    "df_pyspark4.na.drop(how=\"any\", thresh= 2).show()\n",
    "\n",
    "## it will delete that row in which there are two non null values "
   ]
  },
  {
   "cell_type": "code",
   "execution_count": 18,
   "metadata": {},
   "outputs": [
    {
     "name": "stdout",
     "output_type": "stream",
     "text": [
      "+----------+----+-------+-------+\n",
      "|     Name |Age |Gender |Salary |\n",
      "+----------+----+-------+-------+\n",
      "|Adviteeya |  30|   male|  12333|\n",
      "|     Abhay|  23|   male|  54000|\n",
      "|  ashutosh|  54|   null|  45000|\n",
      "|      baby|  23| female|   9000|\n",
      "+----------+----+-------+-------+\n",
      "\n"
     ]
    }
   ],
   "source": [
    "## features of drop  == threshold\n",
    "\n",
    "df_pyspark4.na.drop(how=\"any\",thresh= 3).show()\n",
    "\n",
    "## it will delete that row in which there are three non null values "
   ]
  },
  {
   "cell_type": "code",
   "execution_count": 20,
   "metadata": {},
   "outputs": [],
   "source": [
    "## features of drop == subset\n",
    "## drop null values from specific column \n",
    "#df_pyspark4.na.drop(how=\"any\",subset=[\"Age\"]).show()\n",
    "df_pyspark4.na.drop(how=\"any\",subset=[\"Age\"]).show()"
   ]
  },
  {
   "cell_type": "code",
   "execution_count": 21,
   "metadata": {},
   "outputs": [
    {
     "name": "stdout",
     "output_type": "stream",
     "text": [
      "+-------------+----+-------------+-------+\n",
      "|        Name |Age |      Gender |Salary |\n",
      "+-------------+----+-------------+-------+\n",
      "|   Adviteeya |  30|         male|  12333|\n",
      "|        Abhay|  23|         male|  54000|\n",
      "|         amit|  43|Missing value|   null|\n",
      "|     ashutosh|  54|Missing value|  45000|\n",
      "|Missing value|null|Missing value|  45000|\n",
      "|         baby|  23|       female|   9000|\n",
      "|Missing value|null|Missing value|   9000|\n",
      "+-------------+----+-------------+-------+\n",
      "\n"
     ]
    }
   ],
   "source": [
    "## Fill the missing the values \n",
    "\n",
    "df_pyspark4.na.fill('Missing value').show()\n",
    "## it will fill the null values with missing values "
   ]
  },
  {
   "cell_type": "code",
   "execution_count": 22,
   "metadata": {},
   "outputs": [],
   "source": [
    "## Fill the missing the values \n",
    "\n",
    "df_pyspark4.na.fill('Missing value', 'Age').show()\n",
    "## it will fill the null values with missing values with respect to any speicific columns"
   ]
  },
  {
   "cell_type": "code",
   "execution_count": null,
   "metadata": {},
   "outputs": [],
   "source": []
  }
 ],
 "metadata": {
  "kernelspec": {
   "display_name": "Python 3.8.10 64-bit",
   "language": "python",
   "name": "python3"
  },
  "language_info": {
   "codemirror_mode": {
    "name": "ipython",
    "version": 3
   },
   "file_extension": ".py",
   "mimetype": "text/x-python",
   "name": "python",
   "nbconvert_exporter": "python",
   "pygments_lexer": "ipython3",
   "version": "3.8.10"
  },
  "orig_nbformat": 4,
  "vscode": {
   "interpreter": {
    "hash": "e7370f93d1d0cde622a1f8e1c04877d8463912d04d973331ad4851f04de6915a"
   }
  }
 },
 "nbformat": 4,
 "nbformat_minor": 2
}
