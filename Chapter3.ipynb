{
 "cells": [
  {
   "cell_type": "markdown",
   "metadata": {},
   "source": [
    "### Pyspark Handling Missing Values \n",
    "\n",
    "* Dropping Columns\n",
    "* Dropping Rows\n",
    "* Various parameter in dropping functionalities \n",
    "* Handling Missing values by Mean, Median and Mode"
   ]
  },
  {
   "cell_type": "code",
   "execution_count": 2,
   "metadata": {},
   "outputs": [],
   "source": [
    "from pyspark.sql import  SparkSession\n",
    "spark = SparkSession.builder.appName('Handling').getOrCreate()"
   ]
  },
  {
   "cell_type": "code",
   "execution_count": 3,
   "metadata": {},
   "outputs": [
    {
     "data": {
      "text/plain": [
       "DataFrame[Name : string, Age : int, Gender : string, Salary : int]"
      ]
     },
     "execution_count": 3,
     "metadata": {},
     "output_type": "execute_result"
    }
   ],
   "source": [
    "spark.read.csv('salary.csv', header= True, inferSchema= True)"
   ]
  },
  {
   "cell_type": "code",
   "execution_count": 4,
   "metadata": {},
   "outputs": [],
   "source": [
    "df_pyspark4 =   spark.read.csv('salary.csv', header= True, inferSchema= True)"
   ]
  },
  {
   "cell_type": "code",
   "execution_count": null,
   "metadata": {},
   "outputs": [],
   "source": []
  },
  {
   "cell_type": "code",
   "execution_count": 5,
   "metadata": {},
   "outputs": [
    {
     "name": "stdout",
     "output_type": "stream",
     "text": [
      "+----------+----+-------+-------+\n",
      "|     Name |Age |Gender |Salary |\n",
      "+----------+----+-------+-------+\n",
      "|Adviteeya |  30|   male|  12333|\n",
      "|     Abhay|  23|   male|  54000|\n",
      "|      amit|  43|   null|   null|\n",
      "|  ashutosh|  54|   null|  45000|\n",
      "|      null|null|   null|  45000|\n",
      "|      baby|  23| female|   9000|\n",
      "|      null|null|   null|   9000|\n",
      "+----------+----+-------+-------+\n",
      "\n"
     ]
    }
   ],
   "source": [
    "df_pyspark4.show()"
   ]
  },
  {
   "cell_type": "code",
   "execution_count": null,
   "metadata": {},
   "outputs": [],
   "source": []
  },
  {
   "cell_type": "code",
   "execution_count": 6,
   "metadata": {},
   "outputs": [
    {
     "data": {
      "text/plain": [
       "DataFrame[Name : string, Age : int, Gender : string, Salary : int]"
      ]
     },
     "execution_count": 6,
     "metadata": {},
     "output_type": "execute_result"
    }
   ],
   "source": [
    "## Drop the columns\n",
    "df_pyspark4.drop('Name')"
   ]
  },
  {
   "cell_type": "code",
   "execution_count": 7,
   "metadata": {},
   "outputs": [
    {
     "name": "stdout",
     "output_type": "stream",
     "text": [
      "+----------+----+-------+-------+\n",
      "|     Name |Age |Gender |Salary |\n",
      "+----------+----+-------+-------+\n",
      "|Adviteeya |  30|   male|  12333|\n",
      "|     Abhay|  23|   male|  54000|\n",
      "|      baby|  23| female|   9000|\n",
      "+----------+----+-------+-------+\n",
      "\n"
     ]
    }
   ],
   "source": [
    "## dropping NAN values\n",
    "df_pyspark4.na.drop().show()\n",
    "## all the rows are dropeed where null value or nan values are dropped"
   ]
  },
  {
   "cell_type": "code",
   "execution_count": 8,
   "metadata": {},
   "outputs": [
    {
     "name": "stdout",
     "output_type": "stream",
     "text": [
      "+----------+----+-------+-------+\n",
      "|     Name |Age |Gender |Salary |\n",
      "+----------+----+-------+-------+\n",
      "|Adviteeya |  30|   male|  12333|\n",
      "|     Abhay|  23|   male|  54000|\n",
      "|      amit|  43|   null|   null|\n",
      "|  ashutosh|  54|   null|  45000|\n",
      "|      null|null|   null|  45000|\n",
      "|      baby|  23| female|   9000|\n",
      "|      null|null|   null|   9000|\n",
      "+----------+----+-------+-------+\n",
      "\n"
     ]
    }
   ],
   "source": [
    "## features of drop any == how\n",
    "\n",
    "df_pyspark4.na.drop(how=\"all\").show()\n",
    "\n",
    "## it will drop only those rows in which all the values are null by default it is any "
   ]
  },
  {
   "cell_type": "code",
   "execution_count": 9,
   "metadata": {},
   "outputs": [
    {
     "name": "stdout",
     "output_type": "stream",
     "text": [
      "+----------+----+-------+-------+\n",
      "|     Name |Age |Gender |Salary |\n",
      "+----------+----+-------+-------+\n",
      "|Adviteeya |  30|   male|  12333|\n",
      "|     Abhay|  23|   male|  54000|\n",
      "|      amit|  43|   null|   null|\n",
      "|  ashutosh|  54|   null|  45000|\n",
      "|      baby|  23| female|   9000|\n",
      "+----------+----+-------+-------+\n",
      "\n"
     ]
    }
   ],
   "source": [
    "## features of drop any == threshold\n",
    "\n",
    "df_pyspark4.na.drop(how=\"any\", thresh= 2).show()\n",
    "\n",
    "## it will delete that row in which there are two non null values "
   ]
  },
  {
   "cell_type": "code",
   "execution_count": 10,
   "metadata": {},
   "outputs": [
    {
     "name": "stdout",
     "output_type": "stream",
     "text": [
      "+----------+----+-------+-------+\n",
      "|     Name |Age |Gender |Salary |\n",
      "+----------+----+-------+-------+\n",
      "|Adviteeya |  30|   male|  12333|\n",
      "|     Abhay|  23|   male|  54000|\n",
      "|  ashutosh|  54|   null|  45000|\n",
      "|      baby|  23| female|   9000|\n",
      "+----------+----+-------+-------+\n",
      "\n"
     ]
    }
   ],
   "source": [
    "## features of drop  == threshold\n",
    "\n",
    "df_pyspark4.na.drop(how=\"any\",thresh= 3).show()\n",
    "\n",
    "## it will delete that row in which there are three non null values "
   ]
  },
  {
   "cell_type": "code",
   "execution_count": 12,
   "metadata": {},
   "outputs": [],
   "source": [
    "## features of drop == subset\n",
    "## drop null values from specific column \n",
    "#df_pyspark4.na.drop(how=\"any\",subset=[\"Age\"]).show()\n",
    "df_pyspark4.na.drop(how=\"any\",subset=[\"Age\"]).show()"
   ]
  },
  {
   "cell_type": "code",
   "execution_count": null,
   "metadata": {},
   "outputs": [
    {
     "name": "stdout",
     "output_type": "stream",
     "text": [
      "+-------------+----+-------------+-------+\n",
      "|        Name |Age |      Gender |Salary |\n",
      "+-------------+----+-------------+-------+\n",
      "|   Adviteeya |  30|         male|  12333|\n",
      "|        Abhay|  23|         male|  54000|\n",
      "|         amit|  43|Missing value|   null|\n",
      "|     ashutosh|  54|Missing value|  45000|\n",
      "|Missing value|null|Missing value|  45000|\n",
      "|         baby|  23|       female|   9000|\n",
      "|Missing value|null|Missing value|   9000|\n",
      "+-------------+----+-------------+-------+\n",
      "\n"
     ]
    }
   ],
   "source": [
    "## Fill the missing the values \n",
    "\n",
    "df_pyspark4.na.fill('Missing value').show()\n",
    "## it will fill the null values with missing values "
   ]
  },
  {
   "cell_type": "code",
   "execution_count": 31,
   "metadata": {},
   "outputs": [
    {
     "name": "stdout",
     "output_type": "stream",
     "text": [
      "+----------+----+-------+-------+\n",
      "|     Name |Age |Gender |Salary |\n",
      "+----------+----+-------+-------+\n",
      "|Adviteeya |  30|   male|  12333|\n",
      "|     Abhay|  23|   male|  54000|\n",
      "|      amit|  43|   null|   null|\n",
      "|  ashutosh|  54|   null|  45000|\n",
      "|      null|null|   null|  45000|\n",
      "|      baby|  23| female|   9000|\n",
      "|      null|null|   null|   9000|\n",
      "+----------+----+-------+-------+\n",
      "\n"
     ]
    }
   ],
   "source": [
    "## Fill the missing the values \n",
    "\n",
    "df_pyspark4.na.fill('Missing value', 'Age ').show()\n",
    "## it will fill the null values with missing values with respect to any speicific columns"
   ]
  },
  {
   "cell_type": "code",
   "execution_count": 30,
   "metadata": {},
   "outputs": [
    {
     "name": "stdout",
     "output_type": "stream",
     "text": [
      "+----------+----+-------+-------+\n",
      "|     Name |Age |Gender |Salary |\n",
      "+----------+----+-------+-------+\n",
      "|Adviteeya |  30|   male|  12333|\n",
      "|     Abhay|  23|   male|  54000|\n",
      "|      amit|  43|   null|   null|\n",
      "|  ashutosh|  54|   null|  45000|\n",
      "|      null|null|   null|  45000|\n",
      "|      baby|  23| female|   9000|\n",
      "|      null|null|   null|   9000|\n",
      "+----------+----+-------+-------+\n",
      "\n"
     ]
    }
   ],
   "source": [
    "# missing values handling in specific columns\n",
    "df_pyspark4.na.fill('Missing values',['Salary ']).show()"
   ]
  },
  {
   "cell_type": "code",
   "execution_count": 19,
   "metadata": {},
   "outputs": [
    {
     "name": "stdout",
     "output_type": "stream",
     "text": [
      "+----------+----+-------+-------+\n",
      "|     Name |Age |Gender |Salary |\n",
      "+----------+----+-------+-------+\n",
      "|Adviteeya |  30|   male|  12333|\n",
      "|     Abhay|  23|   male|  54000|\n",
      "|      amit|  43|   null|   null|\n",
      "|  ashutosh|  54|   null|  45000|\n",
      "|      null|null|   null|  45000|\n",
      "|      baby|  23| female|   9000|\n",
      "|      null|null|   null|   9000|\n",
      "+----------+----+-------+-------+\n",
      "\n"
     ]
    }
   ],
   "source": [
    "# Take specific column and fill the missing value with mean of that columns\n",
    "\n",
    "df_pyspark4.show()"
   ]
  },
  {
   "cell_type": "code",
   "execution_count": null,
   "metadata": {},
   "outputs": [],
   "source": []
  },
  {
   "cell_type": "code",
   "execution_count": 22,
   "metadata": {},
   "outputs": [
    {
     "name": "stdout",
     "output_type": "stream",
     "text": [
      "Collecting numpy\n",
      "  Downloading numpy-1.24.4-cp38-cp38-manylinux_2_17_x86_64.manylinux2014_x86_64.whl (17.3 MB)\n",
      "\u001b[K     |████████████████████████████████| 17.3 MB 15.7 MB/s eta 0:00:01\n",
      "\u001b[?25hInstalling collected packages: numpy\n",
      "\u001b[33m  WARNING: The scripts f2py, f2py3 and f2py3.8 are installed in '/config/.local/bin' which is not on PATH.\n",
      "  Consider adding this directory to PATH or, if you prefer to suppress this warning, use --no-warn-script-location.\u001b[0m\n",
      "Successfully installed numpy-1.24.4\n"
     ]
    }
   ],
   "source": [
    "!pip install numpy"
   ]
  },
  {
   "cell_type": "code",
   "execution_count": 23,
   "metadata": {},
   "outputs": [],
   "source": [
    "# We will be using an imputer function\n",
    "\n",
    "from pyspark.ml.feature import Imputer\n"
   ]
  },
  {
   "cell_type": "code",
   "execution_count": 28,
   "metadata": {},
   "outputs": [],
   "source": [
    "imputer = Imputer(\n",
    "    inputCols=['Age ','Salary '],\n",
    "    outputCols=[\"{}_imputer\".format(c) for c in ['Age ', 'Salary ']]\n",
    ").setStrategy(\"mean\")"
   ]
  },
  {
   "cell_type": "code",
   "execution_count": 29,
   "metadata": {},
   "outputs": [
    {
     "name": "stdout",
     "output_type": "stream",
     "text": [
      "+----------+----+-------+-------+------------+---------------+\n",
      "|     Name |Age |Gender |Salary |Age _imputer|Salary _imputer|\n",
      "+----------+----+-------+-------+------------+---------------+\n",
      "|Adviteeya |  30|   male|  12333|          30|          12333|\n",
      "|     Abhay|  23|   male|  54000|          23|          54000|\n",
      "|      amit|  43|   null|   null|          43|          29055|\n",
      "|  ashutosh|  54|   null|  45000|          54|          45000|\n",
      "|      null|null|   null|  45000|          34|          45000|\n",
      "|      baby|  23| female|   9000|          23|           9000|\n",
      "|      null|null|   null|   9000|          34|           9000|\n",
      "+----------+----+-------+-------+------------+---------------+\n",
      "\n"
     ]
    }
   ],
   "source": [
    "imputer.fit(df_pyspark4).transform(df_pyspark4).show()"
   ]
  },
  {
   "cell_type": "code",
   "execution_count": null,
   "metadata": {},
   "outputs": [],
   "source": []
  },
  {
   "cell_type": "code",
   "execution_count": null,
   "metadata": {},
   "outputs": [],
   "source": []
  }
 ],
 "metadata": {
  "kernelspec": {
   "display_name": "Python 3.8.10 64-bit",
   "language": "python",
   "name": "python3"
  },
  "language_info": {
   "codemirror_mode": {
    "name": "ipython",
    "version": 3
   },
   "file_extension": ".py",
   "mimetype": "text/x-python",
   "name": "python",
   "nbconvert_exporter": "python",
   "pygments_lexer": "ipython3",
   "version": "3.8.10"
  },
  "orig_nbformat": 4,
  "vscode": {
   "interpreter": {
    "hash": "e7370f93d1d0cde622a1f8e1c04877d8463912d04d973331ad4851f04de6915a"
   }
  }
 },
 "nbformat": 4,
 "nbformat_minor": 2
}
