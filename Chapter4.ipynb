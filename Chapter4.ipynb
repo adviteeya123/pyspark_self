{
 "cells": [
  {
   "cell_type": "markdown",
   "metadata": {},
   "source": [
    "### Pyspark Dataframes filter operation \n",
    "\n",
    "* Filter operation\n",
    "* &,|,==\n",
    "* -"
   ]
  },
  {
   "cell_type": "code",
   "execution_count": null,
   "metadata": {},
   "outputs": [],
   "source": []
  },
  {
   "cell_type": "code",
   "execution_count": 17,
   "metadata": {},
   "outputs": [],
   "source": [
    "# For data preprocessing \n",
    "import pyspark"
   ]
  },
  {
   "cell_type": "code",
   "execution_count": 18,
   "metadata": {},
   "outputs": [],
   "source": [
    "from pyspark.sql import SparkSession"
   ]
  },
  {
   "cell_type": "markdown",
   "metadata": {},
   "source": []
  },
  {
   "cell_type": "code",
   "execution_count": 19,
   "metadata": {},
   "outputs": [
    {
     "name": "stderr",
     "output_type": "stream",
     "text": [
      "Setting default log level to \"WARN\".\n",
      "To adjust logging level use sc.setLogLevel(newLevel). For SparkR, use setLogLevel(newLevel).\n",
      "23/07/11 18:51:44 WARN NativeCodeLoader: Unable to load native-hadoop library for your platform... using builtin-java classes where applicable\n",
      "23/07/11 18:51:45 WARN Utils: Service 'SparkUI' could not bind on port 4040. Attempting port 4041.\n"
     ]
    }
   ],
   "source": [
    "\n",
    "spark = SparkSession.builder.appName(\"preprocessing\").getOrCreate()"
   ]
  },
  {
   "cell_type": "code",
   "execution_count": 20,
   "metadata": {},
   "outputs": [
    {
     "data": {
      "text/html": [
       "\n",
       "            <div>\n",
       "                <p><b>SparkSession - in-memory</b></p>\n",
       "                \n",
       "        <div>\n",
       "            <p><b>SparkContext</b></p>\n",
       "\n",
       "            <p><a href=\"http://87ba31ba8ada:4041\">Spark UI</a></p>\n",
       "\n",
       "            <dl>\n",
       "              <dt>Version</dt>\n",
       "                <dd><code>v3.2.1</code></dd>\n",
       "              <dt>Master</dt>\n",
       "                <dd><code>local[*]</code></dd>\n",
       "              <dt>AppName</dt>\n",
       "                <dd><code>preprocessing</code></dd>\n",
       "            </dl>\n",
       "        </div>\n",
       "        \n",
       "            </div>\n",
       "        "
      ],
      "text/plain": [
       "<pyspark.sql.session.SparkSession at 0x7f2017e75fa0>"
      ]
     },
     "execution_count": 20,
     "metadata": {},
     "output_type": "execute_result"
    }
   ],
   "source": [
    "spark"
   ]
  },
  {
   "cell_type": "code",
   "execution_count": 25,
   "metadata": {},
   "outputs": [
    {
     "name": "stderr",
     "output_type": "stream",
     "text": [
      "                                                                                \r"
     ]
    }
   ],
   "source": [
    "df_pyspark5 = spark.read.csv(\"Employee_Salary_Dataset.csv\" ,header=True, inferSchema= True)"
   ]
  },
  {
   "cell_type": "code",
   "execution_count": 26,
   "metadata": {},
   "outputs": [
    {
     "name": "stdout",
     "output_type": "stream",
     "text": [
      "+---+----------------+---+------+-------+\n",
      "| ID|Experience_Years|Age|Gender| Salary|\n",
      "+---+----------------+---+------+-------+\n",
      "|  1|               5| 28|Female| 250000|\n",
      "|  2|               1| 21|  Male|  50000|\n",
      "|  3|               3| 23|Female| 170000|\n",
      "|  4|               2| 22|  Male|  25000|\n",
      "|  5|               1| 17|  Male|  10000|\n",
      "|  6|              25| 62|  Male|5001000|\n",
      "|  7|              19| 54|Female| 800000|\n",
      "|  8|               2| 21|Female|   9000|\n",
      "|  9|              10| 36|Female|  61500|\n",
      "| 10|              15| 54|Female| 650000|\n",
      "| 11|               4| 26|Female| 250000|\n",
      "| 12|               6| 29|  Male|1400000|\n",
      "| 13|              14| 39|  Male|6000050|\n",
      "| 14|              11| 40|  Male| 220100|\n",
      "| 15|               2| 23|  Male|   7500|\n",
      "| 16|               4| 27|Female|  87000|\n",
      "| 17|              10| 34|Female| 930000|\n",
      "| 18|              15| 54|Female|7900000|\n",
      "| 19|               2| 21|  Male|  15000|\n",
      "| 20|              10| 36|  Male| 330000|\n",
      "+---+----------------+---+------+-------+\n",
      "only showing top 20 rows\n",
      "\n"
     ]
    }
   ],
   "source": [
    "df_pyspark5.show()"
   ]
  },
  {
   "cell_type": "code",
   "execution_count": 28,
   "metadata": {},
   "outputs": [
    {
     "name": "stdout",
     "output_type": "stream",
     "text": [
      "+-------+------------------+-----------------+------------------+------+------------------+\n",
      "|summary|                ID| Experience_Years|               Age|Gender|            Salary|\n",
      "+-------+------------------+-----------------+------------------+------+------------------+\n",
      "|  count|                35|               35|                35|    35|                35|\n",
      "|   mean|              18.0|              9.2| 35.48571428571429|  null| 2059147.142857143|\n",
      "| stddev|10.246950765959598|7.552950339008553|14.643551940884361|  null|3170123.6359018176|\n",
      "|    min|                 1|                1|                17|Female|              3000|\n",
      "|    max|                35|               27|                62|  Male|          10000000|\n",
      "+-------+------------------+-----------------+------------------+------+------------------+\n",
      "\n"
     ]
    }
   ],
   "source": [
    "df_pyspark5.describe().show()"
   ]
  },
  {
   "cell_type": "code",
   "execution_count": null,
   "metadata": {},
   "outputs": [],
   "source": [
    "\n",
    "\n"
   ]
  },
  {
   "cell_type": "markdown",
   "metadata": {},
   "source": [
    "### Filter operations "
   ]
  },
  {
   "cell_type": "code",
   "execution_count": 29,
   "metadata": {},
   "outputs": [
    {
     "name": "stdout",
     "output_type": "stream",
     "text": [
      "+---+----------------+---+------+------+\n",
      "| ID|Experience_Years|Age|Gender|Salary|\n",
      "+---+----------------+---+------+------+\n",
      "|  5|               1| 17|  Male| 10000|\n",
      "|  8|               2| 21|Female|  9000|\n",
      "| 15|               2| 23|  Male|  7500|\n",
      "| 19|               2| 21|  Male| 15000|\n",
      "| 24|               1| 21|Female|  6000|\n",
      "| 25|               4| 23|Female|  8900|\n",
      "| 26|               3| 22|Female| 20000|\n",
      "| 27|               1| 18|  Male|  3000|\n",
      "| 30|               2| 21|Female|  6100|\n",
      "+---+----------------+---+------+------+\n",
      "\n"
     ]
    }
   ],
   "source": [
    "### Salary of people less than or equal to 20000\n",
    "\n",
    "df_pyspark5.filter(\"Salary<=20000\").show()"
   ]
  },
  {
   "cell_type": "code",
   "execution_count": 30,
   "metadata": {},
   "outputs": [
    {
     "name": "stdout",
     "output_type": "stream",
     "text": [
      "+---+---+\n",
      "| ID|Age|\n",
      "+---+---+\n",
      "|  5| 17|\n",
      "|  8| 21|\n",
      "| 15| 23|\n",
      "| 19| 21|\n",
      "| 24| 21|\n",
      "| 25| 23|\n",
      "| 26| 22|\n",
      "| 27| 18|\n",
      "| 30| 21|\n",
      "+---+---+\n",
      "\n"
     ]
    }
   ],
   "source": [
    "df_pyspark5.filter(\"Salary<=20000\").select(['ID','Age']).show()"
   ]
  },
  {
   "cell_type": "code",
   "execution_count": 31,
   "metadata": {},
   "outputs": [
    {
     "name": "stdout",
     "output_type": "stream",
     "text": [
      "+---+----------------+---+------+------+\n",
      "| ID|Experience_Years|Age|Gender|Salary|\n",
      "+---+----------------+---+------+------+\n",
      "|  5|               1| 17|  Male| 10000|\n",
      "|  8|               2| 21|Female|  9000|\n",
      "| 15|               2| 23|  Male|  7500|\n",
      "| 19|               2| 21|  Male| 15000|\n",
      "| 24|               1| 21|Female|  6000|\n",
      "| 25|               4| 23|Female|  8900|\n",
      "| 26|               3| 22|Female| 20000|\n",
      "| 27|               1| 18|  Male|  3000|\n",
      "| 30|               2| 21|Female|  6100|\n",
      "+---+----------------+---+------+------+\n",
      "\n"
     ]
    }
   ],
   "source": [
    "# Two different condition\n",
    "df_pyspark5.filter(df_pyspark5['Salary']<=20000).show()"
   ]
  },
  {
   "cell_type": "code",
   "execution_count": 34,
   "metadata": {},
   "outputs": [
    {
     "name": "stdout",
     "output_type": "stream",
     "text": [
      "+---+----------------+---+------+------+\n",
      "| ID|Experience_Years|Age|Gender|Salary|\n",
      "+---+----------------+---+------+------+\n",
      "| 19|               2| 21|  Male| 15000|\n",
      "| 26|               3| 22|Female| 20000|\n",
      "+---+----------------+---+------+------+\n",
      "\n"
     ]
    }
   ],
   "source": [
    "df_pyspark5.filter((df_pyspark5['Salary']<=20000) & \n",
    "                    (df_pyspark5['Salary']>=15000)).show()"
   ]
  },
  {
   "cell_type": "code",
   "execution_count": 35,
   "metadata": {},
   "outputs": [
    {
     "name": "stdout",
     "output_type": "stream",
     "text": [
      "+---+----------------+---+------+-------+\n",
      "| ID|Experience_Years|Age|Gender| Salary|\n",
      "+---+----------------+---+------+-------+\n",
      "|  1|               5| 28|Female| 250000|\n",
      "|  2|               1| 21|  Male|  50000|\n",
      "|  3|               3| 23|Female| 170000|\n",
      "|  4|               2| 22|  Male|  25000|\n",
      "|  5|               1| 17|  Male|  10000|\n",
      "|  6|              25| 62|  Male|5001000|\n",
      "|  7|              19| 54|Female| 800000|\n",
      "|  8|               2| 21|Female|   9000|\n",
      "|  9|              10| 36|Female|  61500|\n",
      "| 10|              15| 54|Female| 650000|\n",
      "| 11|               4| 26|Female| 250000|\n",
      "| 12|               6| 29|  Male|1400000|\n",
      "| 13|              14| 39|  Male|6000050|\n",
      "| 14|              11| 40|  Male| 220100|\n",
      "| 15|               2| 23|  Male|   7500|\n",
      "| 16|               4| 27|Female|  87000|\n",
      "| 17|              10| 34|Female| 930000|\n",
      "| 18|              15| 54|Female|7900000|\n",
      "| 19|               2| 21|  Male|  15000|\n",
      "| 20|              10| 36|  Male| 330000|\n",
      "+---+----------------+---+------+-------+\n",
      "only showing top 20 rows\n",
      "\n"
     ]
    }
   ],
   "source": [
    "df_pyspark5.filter((df_pyspark5['Salary']<=20000) | \n",
    "                    (df_pyspark5['Salary']>=15000)).show()"
   ]
  },
  {
   "cell_type": "code",
   "execution_count": 37,
   "metadata": {},
   "outputs": [
    {
     "name": "stdout",
     "output_type": "stream",
     "text": [
      "+---+----------------+---+------+--------+\n",
      "| ID|Experience_Years|Age|Gender|  Salary|\n",
      "+---+----------------+---+------+--------+\n",
      "|  1|               5| 28|Female|  250000|\n",
      "|  3|               3| 23|Female|  170000|\n",
      "|  6|              25| 62|  Male| 5001000|\n",
      "|  7|              19| 54|Female|  800000|\n",
      "|  9|              10| 36|Female|   61500|\n",
      "| 10|              15| 54|Female|  650000|\n",
      "| 11|               4| 26|Female|  250000|\n",
      "| 12|               6| 29|  Male| 1400000|\n",
      "| 13|              14| 39|  Male| 6000050|\n",
      "| 14|              11| 40|  Male|  220100|\n",
      "| 16|               4| 27|Female|   87000|\n",
      "| 17|              10| 34|Female|  930000|\n",
      "| 18|              15| 54|Female| 7900000|\n",
      "| 20|              10| 36|  Male|  330000|\n",
      "| 21|              15| 54|  Male| 6570000|\n",
      "| 23|               5| 29|  Male| 6845000|\n",
      "| 28|              27| 62|Female|10000000|\n",
      "| 29|              19| 54|Female| 5000000|\n",
      "| 31|              10| 34|  Male|   80000|\n",
      "| 32|              15| 54|  Male|  900000|\n",
      "+---+----------------+---+------+--------+\n",
      "only showing top 20 rows\n",
      "\n"
     ]
    }
   ],
   "source": [
    "df_pyspark5.filter(~(df_pyspark5['Salary']<=50000)).show()"
   ]
  },
  {
   "cell_type": "code",
   "execution_count": null,
   "metadata": {},
   "outputs": [],
   "source": []
  }
 ],
 "metadata": {
  "kernelspec": {
   "display_name": "Python 3.8.10 64-bit",
   "language": "python",
   "name": "python3"
  },
  "language_info": {
   "codemirror_mode": {
    "name": "ipython",
    "version": 3
   },
   "file_extension": ".py",
   "mimetype": "text/x-python",
   "name": "python",
   "nbconvert_exporter": "python",
   "pygments_lexer": "ipython3",
   "version": "3.8.10"
  },
  "orig_nbformat": 4,
  "vscode": {
   "interpreter": {
    "hash": "e7370f93d1d0cde622a1f8e1c04877d8463912d04d973331ad4851f04de6915a"
   }
  }
 },
 "nbformat": 4,
 "nbformat_minor": 2
}
