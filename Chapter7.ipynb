{
 "cells": [
  {
   "cell_type": "markdown",
   "metadata": {},
   "source": [
    "### Linear Regression Implementation \n",
    "## Indepth Implementation\n",
    "# Databricks \n",
    "* For large amount of data we can use clusters by the help of data bricks \n",
    "* There a community version \n",
    "* Whenever we create multiple instance we use S3 bucket for huge data set. \n",
    "* Open platform for dat engineering , data science , ML and analytics .\n",
    "* Initially go with the community version of databricks which is free. \n"
   ]
  },
  {
   "cell_type": "code",
   "execution_count": null,
   "metadata": {},
   "outputs": [],
   "source": []
  },
  {
   "cell_type": "markdown",
   "metadata": {},
   "source": [
    "0. You can also upload the dataset\n",
    "* Upload files\n",
    "* S3\n",
    "* DBFS\n",
    "* Other data sources e.g. amazon redhishift, kinesis etc.\n",
    "* Partner Integrations\n",
    "\n",
    "1. Create a cluster\n",
    "* For multiplle clusters you need cloud platform which is on chargeable basis. \n",
    "* Cluster name : Pyspark \n",
    "* DB Runtime Version \n",
    "* Instance by default 15GB only idle for 2 hrs.\n",
    "* DBU is data bricks unit\n",
    "* After uploading the data you have two options:\n",
    "- Create table with UI\n",
    "- Create Table in Notebook\n",
    "\n",
    "* Create table in Notebook \n",
    "\n",
    "2. Notebooks\n",
    "3. Libraries : \n",
    "* Library Source \n",
    "* Package \n",
    "* Repository\n",
    "4. Event Log\n",
    "5. "
   ]
  },
  {
   "cell_type": "markdown",
   "metadata": {},
   "source": [
    "Code : \n",
    "\n",
    "df = spark.read.csv(File_location , header = True, inferSchema = True)\n",
    "Run the file shortcut shift + tab\n",
    "df.PrintSchema()\n",
    "df.show()\n",
    "df.select(\"Salary\").show()\n",
    "\n",
    "\n",
    "# Try to create a specific environment"
   ]
  },
  {
   "cell_type": "code",
   "execution_count": null,
   "metadata": {},
   "outputs": [],
   "source": []
  },
  {
   "cell_type": "code",
   "execution_count": null,
   "metadata": {},
   "outputs": [],
   "source": []
  },
  {
   "cell_type": "code",
   "execution_count": null,
   "metadata": {},
   "outputs": [],
   "source": []
  },
  {
   "cell_type": "code",
   "execution_count": null,
   "metadata": {},
   "outputs": [],
   "source": []
  }
 ],
 "metadata": {
  "kernelspec": {
   "display_name": "Python 3.8.10 64-bit",
   "language": "python",
   "name": "python3"
  },
  "language_info": {
   "codemirror_mode": {
    "name": "ipython",
    "version": 3
   },
   "file_extension": ".py",
   "mimetype": "text/x-python",
   "name": "python",
   "nbconvert_exporter": "python",
   "pygments_lexer": "ipython3",
   "version": "3.8.10"
  },
  "orig_nbformat": 4,
  "vscode": {
   "interpreter": {
    "hash": "e7370f93d1d0cde622a1f8e1c04877d8463912d04d973331ad4851f04de6915a"
   }
  }
 },
 "nbformat": 4,
 "nbformat_minor": 2
}
